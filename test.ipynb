{
 "cells": [
  {
   "cell_type": "code",
   "execution_count": null,
   "metadata": {},
   "outputs": [],
   "source": [
    "import requests\n",
    "import json\n",
    "import re\n",
    "import pandas as pd\n",
    "\n",
    "# 網頁 URL\n",
    "fUrl = \"https://famihealth.family.com.tw/Calculator\"\n",
    "\n",
    "# 發送 GET 請求\n",
    "headers = {\n",
    "    \"User-Agent\": \"Mozilla/5.0 (Windows NT 10.0; Win64; x64) AppleWebKit/537.36 (KHTML, like Gecko) Chrome/117.0.0.0 Safari/537.36\"\n",
    "}\n",
    "response = requests.get(fUrl, headers=headers)\n",
    "\n",
    "df = pd.DataFrame()\n",
    "# 確保請求成功\n",
    "if response.status_code == 200:\n",
    "    # 使用正則表達式提取 categories 變數的內容\n",
    "    match = re.search(r'var categories = (\\[.*?\\]);', response.text, re.S)\n",
    "    if match:\n",
    "        # 解析為 Python 字典\n",
    "        categories_data = json.loads(match.group(1))\n",
    "        \n",
    "        # 存儲結果\n",
    "        results = []\n",
    "        for category in categories_data:\n",
    "            for product in category.get(\"products\", []):\n",
    "                results.append({\n",
    "                    \"category\": category.get(\"name\"),\n",
    "                    \"title\": product.get(\"name\"),\n",
    "                    \"picture_url\": product.get(\"imgurl\"),\n",
    "                    \"Protein (g)\": product.get(\"protein\", 0),\n",
    "                    \"Carb (g)\": product.get(\"carb\", 0),\n",
    "                    \"Calories (kcal)\": product.get(\"calo\", 0),\n",
    "                    \"Fat (g)\": product.get(\"fat\", 0),\n",
    "                    \"Description\": product.get(\"description\", \"\"),\n",
    "                })\n",
    "        \n",
    "        # 轉換為 DataFrame\n",
    "        df = pd.DataFrame(results)\n"
   ]
  },
  {
   "cell_type": "code",
   "execution_count": 16,
   "metadata": {},
   "outputs": [],
   "source": [
    "json_data = df.to_dict(orient='records')\n",
    "\n",
    "# 儲存為 JSON 文件，並指定編碼為 UTF-8\n",
    "with open('data.json', 'w', encoding='utf-8') as f:\n",
    "    json.dump(json_data, f, ensure_ascii=False, indent=4)"
   ]
  }
 ],
 "metadata": {
  "kernelspec": {
   "display_name": "base",
   "language": "python",
   "name": "python3"
  },
  "language_info": {
   "codemirror_mode": {
    "name": "ipython",
    "version": 3
   },
   "file_extension": ".py",
   "mimetype": "text/x-python",
   "name": "python",
   "nbconvert_exporter": "python",
   "pygments_lexer": "ipython3",
   "version": "3.12.4"
  }
 },
 "nbformat": 4,
 "nbformat_minor": 2
}
